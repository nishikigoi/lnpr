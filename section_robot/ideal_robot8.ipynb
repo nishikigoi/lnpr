{
 "cells": [
  {
   "cell_type": "code",
   "execution_count": 1,
   "id": "ec3eefe9-f913-4c32-9f48-de3e94e21b2f",
   "metadata": {},
   "outputs": [],
   "source": [
    "%matplotlib widget\n",
    "import matplotlib\n",
    "#matplotlib.use(\"nbagg\")\n",
    "import matplotlib.animation as anm\n",
    "import matplotlib.pyplot as plt\n",
    "import math\n",
    "import matplotlib.patches as patches\n",
    "import numpy as np"
   ]
  },
  {
   "cell_type": "code",
   "execution_count": 2,
   "id": "96c26a8f-0e37-46aa-b006-7c65e195e79a",
   "metadata": {},
   "outputs": [],
   "source": [
    "class World:\n",
    "    def __init__(self, time_span, time_interval, debug=False):\n",
    "        self.objects = []\n",
    "        self.debug = debug\n",
    "        self.time_span = time_span\n",
    "        self.time_interval = time_interval\n",
    "        \n",
    "    def append(self, obj):\n",
    "        self.objects.append(obj)\n",
    "        \n",
    "    def draw(self):\n",
    "        fig = plt.figure(figsize=(4, 4))\n",
    "        ax = fig.add_subplot(111)\n",
    "        ax.set_aspect(\"equal\")\n",
    "        ax.set_xlim(-5, 5)\n",
    "        ax.set_ylim(-5, 5)\n",
    "        ax.set_xlabel(\"X\", fontsize=10)\n",
    "        ax.set_ylabel(\"Y\", fontsize=10)\n",
    "        \n",
    "        elems = []\n",
    "        \n",
    "        if self.debug:\n",
    "            for i in range(1000):\n",
    "                self.one_step(i, elems, ax)\n",
    "        else:\n",
    "            self.anm = anm.FuncAnimation(fig, self.one_step, fargs=(elems, ax),\n",
    "                                         frames=int(self.time_span / self.time_interval) + 1,\n",
    "                                         interval=int(self.time_interval * 1000), repeat=False)\n",
    "            plt.show()\n",
    "        \n",
    "    def one_step(self, i, elems, ax):\n",
    "        while elems:\n",
    "            elems.pop().remove()\n",
    "        time_str = \"t = %.2f[s]\" % (self.time_interval * i)\n",
    "        elems.append(ax.text(-4.4, 4.5, \"t = \" + str(i), fontsize=10))\n",
    "        for obj in self.objects:\n",
    "            obj.draw(ax, elems)\n",
    "            if hasattr(obj, \"one_step\"):\n",
    "                obj.one_step(self.time_interval)"
   ]
  },
  {
   "cell_type": "code",
   "execution_count": 3,
   "id": "763b5e9c-a385-4e71-8640-985285b8c37e",
   "metadata": {},
   "outputs": [],
   "source": [
    "class IdealRobot:\n",
    "    def __init__(self, pose, agent=None, color=\"black\"):\n",
    "        self.pose = pose\n",
    "        self.r = 0.2\n",
    "        self.color = color\n",
    "        self.agent = agent\n",
    "        self.poses = [pose]\n",
    "        \n",
    "    def draw(self, ax, elems):\n",
    "        x, y, theta = self.pose\n",
    "        xn = x + self.r * math.cos(theta)\n",
    "        yn = y + self.r * math.sin(theta)\n",
    "        elems += ax.plot([x, xn], [y, yn], color=self.color)\n",
    "        c = patches.Circle(xy=(x, y), radius=self.r, fill=False, color=self.color)\n",
    "        elems.append(ax.add_patch(c))\n",
    "        \n",
    "        self.poses.append(self.pose)\n",
    "        elems += ax.plot([e[0] for e in self.poses], [e[1] for e in self.poses], linewidth=0.5, color=\"black\")\n",
    "\n",
    "    @classmethod\n",
    "    def state_transition(cls, nu, omega, time, pose):\n",
    "        t0 = pose[2]\n",
    "        if math.fabs(omega) < 1e-10:\n",
    "            return pose + np.array([nu * math.cos(t0), nu * math.sin(t0), omega]) * time\n",
    "        else:\n",
    "            return pose + np.array([nu / omega * (math.sin(t0 + omega * time) - math.sin(t0)),\n",
    "                                    nu / omega * (-math.cos(t0 + omega * time) + math.cos(t0)),\n",
    "                                    omega * time])\n",
    "        \n",
    "    def one_step(self, time_interval):\n",
    "        if not self.agent:\n",
    "            return\n",
    "        nu, omega = self.agent.decision()\n",
    "        self.pose = self.state_transition(nu, omega, time_interval, self.pose)"
   ]
  },
  {
   "cell_type": "code",
   "execution_count": 4,
   "id": "a20315ac-816d-4c31-88f2-81e333c60a6d",
   "metadata": {},
   "outputs": [
    {
     "data": {
      "text/plain": [
       "array([0.1, 0. , 0. ])"
      ]
     },
     "execution_count": 4,
     "metadata": {},
     "output_type": "execute_result"
    }
   ],
   "source": [
    "IdealRobot.state_transition(0.1, 0.0, 1.0, np.array([0, 0, 0]).T)"
   ]
  },
  {
   "cell_type": "code",
   "execution_count": 5,
   "id": "c74eae48-3b7c-4d17-9c81-8905e6a511eb",
   "metadata": {},
   "outputs": [
    {
     "data": {
      "text/plain": [
       "array([0.5729578 , 0.5729578 , 1.57079633])"
      ]
     },
     "execution_count": 5,
     "metadata": {},
     "output_type": "execute_result"
    }
   ],
   "source": [
    "IdealRobot.state_transition(0.1, 10.0/180*math.pi, 9.0, np.array([0, 0, 0]).T)"
   ]
  },
  {
   "cell_type": "code",
   "execution_count": 6,
   "id": "50927064-dc5a-4673-8f47-ae7e9a132856",
   "metadata": {},
   "outputs": [
    {
     "data": {
      "text/plain": [
       "array([7.01670930e-17, 1.14591559e+00, 3.14159265e+00])"
      ]
     },
     "execution_count": 6,
     "metadata": {},
     "output_type": "execute_result"
    }
   ],
   "source": [
    "IdealRobot.state_transition(0.1, 10.0/180*math.pi, 18.0, np.array([0, 0, 0]).T)"
   ]
  },
  {
   "cell_type": "code",
   "execution_count": 7,
   "id": "146c6c96-698a-4070-ba91-08983615ad62",
   "metadata": {},
   "outputs": [],
   "source": [
    "class Agent:\n",
    "    def __init__(self, nu, omega):\n",
    "        self.nu = nu\n",
    "        self.omega = omega\n",
    "        \n",
    "    def decision(self, observation=None):\n",
    "        return self.nu, self.omega"
   ]
  },
  {
   "cell_type": "code",
   "execution_count": 8,
   "id": "076cecd5-b670-41ed-bf8b-8986cac5666e",
   "metadata": {},
   "outputs": [],
   "source": [
    "class Landmark:\n",
    "    def __init__(self, x, y):\n",
    "        self.pos = np.array([x, y]).T\n",
    "        self.id = None\n",
    "    \n",
    "    def draw(self, ax, elems):\n",
    "        c = ax.scatter(self.pos[0], self.pos[1], s=100, marker=\"*\", label=\"landmarks\", color=\"orange\")\n",
    "        elems.append(c)\n",
    "        elems.append(ax.text(self.pos[0], self.pos[1], \"id:\" + str(self.id), fontsize=10))"
   ]
  },
  {
   "cell_type": "code",
   "execution_count": 9,
   "id": "64136f63-1e6a-4b76-8908-19037f90e1a9",
   "metadata": {},
   "outputs": [],
   "source": [
    "class Map:\n",
    "    def __init__(self):\n",
    "        self.landmarks = []\n",
    "        \n",
    "    def append_landmark(self, landmark):\n",
    "        landmark.id = len(self.landmarks) + 1\n",
    "        self.landmarks.append(landmark)\n",
    "        \n",
    "    def draw(self, ax, elems):\n",
    "        for lm in self.landmarks:\n",
    "            lm.draw(ax, elems)"
   ]
  },
  {
   "cell_type": "code",
   "execution_count": 19,
   "id": "0e116e8c-2109-49b0-ba9d-ed2bb4122c64",
   "metadata": {},
   "outputs": [],
   "source": [
    "class IdealCamera:\n",
    "    def __init__(self, env_map):\n",
    "        self.map = env_map\n",
    "        \n",
    "    def data(self, cam_pose):\n",
    "        observed = []\n",
    "        for lm in self.map.landmarks:\n",
    "            p = self.observation_function(cam_pose, lm.pos)\n",
    "            observed.append((p, lm.id))\n",
    "        \n",
    "        return observed\n",
    "    \n",
    "    @classmethod\n",
    "    def observation_function(cls, cam_pose, obj_pos):\n",
    "        diff = obj_pos - cam_pose[0:2]\n",
    "        phi = math.atan2(diff[1], diff[0]) - cam_pose[2]\n",
    "        while phi >= np.pi:\n",
    "            phi -= 2 * np.pi\n",
    "        while phi < -np.pi:\n",
    "            phi += 2 * np.pi\n",
    "        return np.array([np.hypot(*diff), phi]).T"
   ]
  },
  {
   "cell_type": "code",
   "execution_count": 25,
   "id": "29976345-c9c9-4602-a132-45255a8cd8a1",
   "metadata": {},
   "outputs": [
    {
     "name": "stdout",
     "output_type": "stream",
     "text": [
      "[(array([4.12310563, 2.26829546]), 1), (array([2.23606798, 1.40612541]), 2), (array([ 6.40312424, -3.09517024]), 3)]\n"
     ]
    },
    {
     "data": {
      "application/vnd.jupyter.widget-view+json": {
       "model_id": "9b4bc45261cc48c7b198f2d4e4317312",
       "version_major": 2,
       "version_minor": 0
      },
      "text/plain": [
       "Canvas(toolbar=Toolbar(toolitems=[('Home', 'Reset original view', 'home', 'home'), ('Back', 'Back to previous …"
      ]
     },
     "metadata": {},
     "output_type": "display_data"
    }
   ],
   "source": [
    "world = World(10, 0.1)\n",
    "m = Map()\n",
    "m.append_landmark(Landmark(2, -2))\n",
    "m.append_landmark(Landmark(-1, -3))\n",
    "m.append_landmark(Landmark(3, 3))\n",
    "world.append(m)\n",
    "straight = Agent(0.2, 0.0)\n",
    "circling = Agent(0.2, 10.0/180*math.pi)\n",
    "robot1 = IdealRobot(np.array([2, 3, math.pi/6]).T, straight)\n",
    "robot2 = IdealRobot(np.array([-2, -1, math.pi/5*6]).T, circling, \"red\")\n",
    "robot3 = IdealRobot(np.array([0, 0, 0]).T, color=\"blue\")\n",
    "cam = IdealCamera(m)\n",
    "p = cam.data(robot2.pose)\n",
    "print(p)\n",
    "\n",
    "world.append(robot1)\n",
    "world.append(robot2)\n",
    "world.append(robot3)\n",
    "world.draw()\n",
    "\n"
   ]
  },
  {
   "cell_type": "code",
   "execution_count": 30,
   "id": "33a93277-e212-4f18-b38d-afd74ad85186",
   "metadata": {},
   "outputs": [
    {
     "name": "stdout",
     "output_type": "stream",
     "text": [
      "[(array([4.16661716, 0.92102083]), 1), (array([1.11539959, 0.53325976]), 2), (array([7.70283017, 1.5813995 ]), 3)]\n"
     ]
    }
   ],
   "source": [
    "p = cam.data(robot2.pose)\n",
    "print(p)"
   ]
  }
 ],
 "metadata": {
  "kernelspec": {
   "display_name": "Python 3 (ipykernel)",
   "language": "python",
   "name": "python3"
  },
  "language_info": {
   "codemirror_mode": {
    "name": "ipython",
    "version": 3
   },
   "file_extension": ".py",
   "mimetype": "text/x-python",
   "name": "python",
   "nbconvert_exporter": "python",
   "pygments_lexer": "ipython3",
   "version": "3.9.6"
  }
 },
 "nbformat": 4,
 "nbformat_minor": 5
}
