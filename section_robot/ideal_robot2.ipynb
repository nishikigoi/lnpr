{
 "cells": [
  {
   "cell_type": "code",
   "execution_count": 1,
   "id": "ec3eefe9-f913-4c32-9f48-de3e94e21b2f",
   "metadata": {},
   "outputs": [],
   "source": [
    "import matplotlib.pyplot as plt\n",
    "import math\n",
    "import matplotlib.patches as patches\n",
    "import numpy as np"
   ]
  },
  {
   "cell_type": "code",
   "execution_count": 2,
   "id": "96c26a8f-0e37-46aa-b006-7c65e195e79a",
   "metadata": {},
   "outputs": [],
   "source": [
    "class World:\n",
    "    def __init__(self):\n",
    "        self.objects = []\n",
    "        \n",
    "    def append(self, obj):\n",
    "        self.objects.append(obj)\n",
    "        \n",
    "    def draw(self):\n",
    "        fig = plt.figure(figsize=(8, 8))\n",
    "        ax = fig.add_subplot(111)\n",
    "        ax.set_aspect(\"equal\")\n",
    "        ax.set_xlim(-5, 5)\n",
    "        ax.set_ylim(-5, 5)\n",
    "        ax.set_xlabel(\"X\", fontsize=20)\n",
    "        ax.set_ylabel(\"Y\", fontsize=20)\n",
    "        \n",
    "        for obj in self.objects:\n",
    "            obj.draw(ax)\n",
    "\n",
    "        plt.show()"
   ]
  },
  {
   "cell_type": "code",
   "execution_count": 4,
   "id": "763b5e9c-a385-4e71-8640-985285b8c37e",
   "metadata": {},
   "outputs": [],
   "source": [
    "class IdealRobot:\n",
    "    def __init__(self, pose, color=\"black\"):\n",
    "        self.pose = pose\n",
    "        self.r = 0.2\n",
    "        self.color = color\n",
    "        \n",
    "    def draw(self, ax):\n",
    "        x, y, theta = self.pose\n",
    "        xn = x + self.r * math.cos(theta)\n",
    "        yn = y + self.r * math.sin(theta)\n",
    "        ax.plot([x, xn], [y, yn], color=self.color)\n",
    "        c = patches.Circle(xy=(x, y), radius=self.r, fill=False, color=self.color)\n",
    "        ax.add_patch(c)"
   ]
  },
  {
   "cell_type": "code",
   "execution_count": 6,
   "id": "29976345-c9c9-4602-a132-45255a8cd8a1",
   "metadata": {},
   "outputs": [
    {
     "data": {
      "image/png": "[encoded data removed]",
      "text/plain": [
       "<Figure size 576x576 with 1 Axes>"
      ]
     },
     "metadata": {
      "needs_background": "light"
     },
     "output_type": "display_data"
    }
   ],
   "source": [
    "world = World()\n",
    "robot1 = IdealRobot(np.array([2, 3, math.pi/6]).T)\n",
    "robot2 = IdealRobot(np.array([-2, -1, math.pi/5*6]).T, \"red\")\n",
    "world.append(robot1)\n",
    "world.append(robot2)\n",
    "world.draw()"
   ]
  },
  {
   "cell_type": "code",
   "execution_count": null,
   "id": "33a93277-e212-4f18-b38d-afd74ad85186",
   "metadata": {},
   "outputs": [],
   "source": []
  }
 ],
 "metadata": {
  "kernelspec": {
   "display_name": "Python 3 (ipykernel)",
   "language": "python",
   "name": "python3"
  },
  "language_info": {
   "codemirror_mode": {
    "name": "ipython",
    "version": 3
   },
   "file_extension": ".py",
   "mimetype": "text/x-python",
   "name": "python",
   "nbconvert_exporter": "python",
   "pygments_lexer": "ipython3",
   "version": "3.9.6"
  }
 },
 "nbformat": 4,
 "nbformat_minor": 5
}
