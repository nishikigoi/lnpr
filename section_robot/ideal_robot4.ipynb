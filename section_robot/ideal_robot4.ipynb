{
 "cells": [
  {
   "cell_type": "code",
   "execution_count": 4,
   "id": "ec3eefe9-f913-4c32-9f48-de3e94e21b2f",
   "metadata": {},
   "outputs": [],
   "source": [
    "%matplotlib widget\n",
    "import matplotlib\n",
    "#matplotlib.use(\"nbagg\")\n",
    "import matplotlib.animation as anm\n",
    "import matplotlib.pyplot as plt\n",
    "import math\n",
    "import matplotlib.patches as patches\n",
    "import numpy as np"
   ]
  },
  {
   "cell_type": "code",
   "execution_count": 5,
   "id": "96c26a8f-0e37-46aa-b006-7c65e195e79a",
   "metadata": {},
   "outputs": [],
   "source": [
    "class World:\n",
    "    def __init__(self, debug=False):\n",
    "        self.objects = []\n",
    "        self.debug = debug\n",
    "        \n",
    "    def append(self, obj):\n",
    "        self.objects.append(obj)\n",
    "        \n",
    "    def draw(self):\n",
    "        fig = plt.figure(figsize=(4, 4))\n",
    "        ax = fig.add_subplot(111)\n",
    "        ax.set_aspect(\"equal\")\n",
    "        ax.set_xlim(-5, 5)\n",
    "        ax.set_ylim(-5, 5)\n",
    "        ax.set_xlabel(\"X\", fontsize=10)\n",
    "        ax.set_ylabel(\"Y\", fontsize=10)\n",
    "        \n",
    "        elems = []\n",
    "        \n",
    "        if self.debug:\n",
    "            for i in range(1000):\n",
    "                self.one_step(i, elems, ax)\n",
    "        else:\n",
    "            self.anm = anm.FuncAnimation(fig, self.one_step, fargs=(elems, ax), frames=10, interval=1000, repeat=False)\n",
    "            plt.show()\n",
    "        \n",
    "    def one_step(self, i, elems, ax):\n",
    "        while elems:\n",
    "            elems.pop().remove()\n",
    "        elems.append(ax.text(-4.4, 4.5, \"t = \" + str(i), fontsize=10))\n",
    "        for obj in self.objects:\n",
    "            obj.draw(ax, elems)"
   ]
  },
  {
   "cell_type": "code",
   "execution_count": 6,
   "id": "763b5e9c-a385-4e71-8640-985285b8c37e",
   "metadata": {},
   "outputs": [],
   "source": [
    "class IdealRobot:\n",
    "    def __init__(self, pose, color=\"black\"):\n",
    "        self.pose = pose\n",
    "        self.r = 0.2\n",
    "        self.color = color\n",
    "        \n",
    "    def draw(self, ax, elems):\n",
    "        x, y, theta = self.pose\n",
    "        xn = x + self.r * math.cos(theta)\n",
    "        yn = y + self.r * math.sin(theta)\n",
    "        elems += ax.plot([x, xn], [y, yn], color=self.color)\n",
    "        c = patches.Circle(xy=(x, y), radius=self.r, fill=False, color=self.color)\n",
    "        ax.add_patch(c)"
   ]
  },
  {
   "cell_type": "code",
   "execution_count": 7,
   "id": "29976345-c9c9-4602-a132-45255a8cd8a1",
   "metadata": {},
   "outputs": [
    {
     "data": {
      "application/vnd.jupyter.widget-view+json": {
       "model_id": "9b063747217b478d95cd0f4b48d35542",
       "version_major": 2,
       "version_minor": 0
      },
      "text/plain": [
       "Canvas(toolbar=Toolbar(toolitems=[('Home', 'Reset original view', 'home', 'home'), ('Back', 'Back to previous …"
      ]
     },
     "metadata": {},
     "output_type": "display_data"
    }
   ],
   "source": [
    "world = World()\n",
    "robot1 = IdealRobot(np.array([2, 3, math.pi/6]).T)\n",
    "robot2 = IdealRobot(np.array([-2, -1, math.pi/5*6]).T, \"red\")\n",
    "world.append(robot1)\n",
    "world.append(robot2)\n",
    "world.draw()"
   ]
  },
  {
   "cell_type": "code",
   "execution_count": null,
   "id": "33a93277-e212-4f18-b38d-afd74ad85186",
   "metadata": {},
   "outputs": [],
   "source": []
  }
 ],
 "metadata": {
  "kernelspec": {
   "display_name": "Python 3 (ipykernel)",
   "language": "python",
   "name": "python3"
  },
  "language_info": {
   "codemirror_mode": {
    "name": "ipython",
    "version": 3
   },
   "file_extension": ".py",
   "mimetype": "text/x-python",
   "name": "python",
   "nbconvert_exporter": "python",
   "pygments_lexer": "ipython3",
   "version": "3.9.6"
  }
 },
 "nbformat": 4,
 "nbformat_minor": 5
}
