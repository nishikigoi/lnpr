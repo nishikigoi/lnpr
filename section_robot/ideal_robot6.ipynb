{
 "cells": [
  {
   "cell_type": "code",
   "execution_count": 4,
   "id": "ec3eefe9-f913-4c32-9f48-de3e94e21b2f",
   "metadata": {},
   "outputs": [],
   "source": [
    "%matplotlib widget\n",
    "import matplotlib\n",
    "#matplotlib.use(\"nbagg\")\n",
    "import matplotlib.animation as anm\n",
    "import matplotlib.pyplot as plt\n",
    "import math\n",
    "import matplotlib.patches as patches\n",
    "import numpy as np"
   ]
  },
  {
   "cell_type": "code",
   "execution_count": 5,
   "id": "96c26a8f-0e37-46aa-b006-7c65e195e79a",
   "metadata": {},
   "outputs": [],
   "source": [
    "class World:\n",
    "    def __init__(self, time_span, time_interval, debug=False):\n",
    "        self.objects = []\n",
    "        self.debug = debug\n",
    "        self.time_span = time_span\n",
    "        self.time_interval = time_interval\n",
    "        \n",
    "    def append(self, obj):\n",
    "        self.objects.append(obj)\n",
    "        \n",
    "    def draw(self):\n",
    "        fig = plt.figure(figsize=(4, 4))\n",
    "        ax = fig.add_subplot(111)\n",
    "        ax.set_aspect(\"equal\")\n",
    "        ax.set_xlim(-5, 5)\n",
    "        ax.set_ylim(-5, 5)\n",
    "        ax.set_xlabel(\"X\", fontsize=10)\n",
    "        ax.set_ylabel(\"Y\", fontsize=10)\n",
    "        \n",
    "        elems = []\n",
    "        \n",
    "        if self.debug:\n",
    "            for i in range(1000):\n",
    "                self.one_step(i, elems, ax)\n",
    "        else:\n",
    "            self.anm = anm.FuncAnimation(fig, self.one_step, fargs=(elems, ax),\n",
    "                                         frames=int(self.time_span / self.time_interval) + 1,\n",
    "                                         interval=int(self.time_interval * 1000), repeat=False)\n",
    "            plt.show()\n",
    "        \n",
    "    def one_step(self, i, elems, ax):\n",
    "        while elems:\n",
    "            elems.pop().remove()\n",
    "        time_str = \"t = %.2f[s]\" % (self.time_interval * i)\n",
    "        elems.append(ax.text(-4.4, 4.5, \"t = \" + str(i), fontsize=10))\n",
    "        for obj in self.objects:\n",
    "            obj.draw(ax, elems)\n",
    "            if hasattr(obj, \"one_step\"):\n",
    "                obj.one_step(self.time_interval)"
   ]
  },
  {
   "cell_type": "code",
   "execution_count": 6,
   "id": "763b5e9c-a385-4e71-8640-985285b8c37e",
   "metadata": {},
   "outputs": [],
   "source": [
    "class IdealRobot:\n",
    "    def __init__(self, pose, agent=None, color=\"black\"):\n",
    "        self.pose = pose\n",
    "        self.r = 0.2\n",
    "        self.color = color\n",
    "        self.agent = agent\n",
    "        self.poses = [pose]\n",
    "        \n",
    "    def draw(self, ax, elems):\n",
    "        x, y, theta = self.pose\n",
    "        xn = x + self.r * math.cos(theta)\n",
    "        yn = y + self.r * math.sin(theta)\n",
    "        elems += ax.plot([x, xn], [y, yn], color=self.color)\n",
    "        c = patches.Circle(xy=(x, y), radius=self.r, fill=False, color=self.color)\n",
    "        elems.append(ax.add_patch(c))\n",
    "        \n",
    "        self.poses.append(self.pose)\n",
    "        elems += ax.plot([e[0] for e in self.poses], [e[1] for e in self.poses], linewidth=0.5, color=\"black\")\n",
    "\n",
    "    @classmethod\n",
    "    def state_transition(cls, nu, omega, time, pose):\n",
    "        t0 = pose[2]\n",
    "        if math.fabs(omega) < 1e-10:\n",
    "            return pose + np.array([nu * math.cos(t0), nu * math.sin(t0), omega]) * time\n",
    "        else:\n",
    "            return pose + np.array([nu / omega * (math.sin(t0 + omega * time) - math.sin(t0)),\n",
    "                                    nu / omega * (-math.cos(t0 + omega * time) + math.cos(t0)),\n",
    "                                    omega * time])\n",
    "        \n",
    "    def one_step(self, time_interval):\n",
    "        if not self.agent:\n",
    "            return\n",
    "        nu, omega = self.agent.decision()\n",
    "        self.pose = self.state_transition(nu, omega, time_interval, self.pose)"
   ]
  },
  {
   "cell_type": "code",
   "execution_count": 4,
   "id": "a20315ac-816d-4c31-88f2-81e333c60a6d",
   "metadata": {},
   "outputs": [
    {
     "data": {
      "text/plain": [
       "array([0.1, 0. , 0. ])"
      ]
     },
     "execution_count": 4,
     "metadata": {},
     "output_type": "execute_result"
    }
   ],
   "source": [
    "IdealRobot.state_transition(0.1, 0.0, 1.0, np.array([0, 0, 0]).T)"
   ]
  },
  {
   "cell_type": "code",
   "execution_count": 5,
   "id": "c74eae48-3b7c-4d17-9c81-8905e6a511eb",
   "metadata": {},
   "outputs": [
    {
     "data": {
      "text/plain": [
       "array([0.5729578 , 0.5729578 , 1.57079633])"
      ]
     },
     "execution_count": 5,
     "metadata": {},
     "output_type": "execute_result"
    }
   ],
   "source": [
    "IdealRobot.state_transition(0.1, 10.0/180*math.pi, 9.0, np.array([0, 0, 0]).T)"
   ]
  },
  {
   "cell_type": "code",
   "execution_count": 6,
   "id": "50927064-dc5a-4673-8f47-ae7e9a132856",
   "metadata": {},
   "outputs": [
    {
     "data": {
      "text/plain": [
       "array([7.01670930e-17, 1.14591559e+00, 3.14159265e+00])"
      ]
     },
     "execution_count": 6,
     "metadata": {},
     "output_type": "execute_result"
    }
   ],
   "source": [
    "IdealRobot.state_transition(0.1, 10.0/180*math.pi, 18.0, np.array([0, 0, 0]).T)"
   ]
  },
  {
   "cell_type": "code",
   "execution_count": 7,
   "id": "146c6c96-698a-4070-ba91-08983615ad62",
   "metadata": {},
   "outputs": [],
   "source": [
    "class Agent:\n",
    "    def __init__(self, nu, omega):\n",
    "        self.nu = nu\n",
    "        self.omega = omega\n",
    "        \n",
    "    def decision(self, observation=None):\n",
    "        return self.nu, self.omega"
   ]
  },
  {
   "cell_type": "code",
   "execution_count": 9,
   "id": "29976345-c9c9-4602-a132-45255a8cd8a1",
   "metadata": {},
   "outputs": [
    {
     "data": {
      "application/vnd.jupyter.widget-view+json": {
       "model_id": "742ac3d7b66c4972a65bc2375420c030",
       "version_major": 2,
       "version_minor": 0
      },
      "text/plain": [
       "Canvas(toolbar=Toolbar(toolitems=[('Home', 'Reset original view', 'home', 'home'), ('Back', 'Back to previous …"
      ]
     },
     "metadata": {},
     "output_type": "display_data"
    }
   ],
   "source": [
    "world = World(10, 0.1)\n",
    "straight = Agent(0.2, 0.0)\n",
    "circling = Agent(0.2, 10.0/180*math.pi)\n",
    "robot1 = IdealRobot(np.array([2, 3, math.pi/6]).T, straight)\n",
    "robot2 = IdealRobot(np.array([-2, -1, math.pi/5*6]).T, circling, \"red\")\n",
    "robot3 = IdealRobot(np.array([0, 0, 0]).T, color=\"blue\")\n",
    "world.append(robot1)\n",
    "world.append(robot2)\n",
    "world.append(robot3)\n",
    "world.draw()"
   ]
  },
  {
   "cell_type": "code",
   "execution_count": null,
   "id": "33a93277-e212-4f18-b38d-afd74ad85186",
   "metadata": {},
   "outputs": [],
   "source": []
  }
 ],
 "metadata": {
  "kernelspec": {
   "display_name": "Python 3 (ipykernel)",
   "language": "python",
   "name": "python3"
  },
  "language_info": {
   "codemirror_mode": {
    "name": "ipython",
    "version": 3
   },
   "file_extension": ".py",
   "mimetype": "text/x-python",
   "name": "python",
   "nbconvert_exporter": "python",
   "pygments_lexer": "ipython3",
   "version": "3.9.6"
  }
 },
 "nbformat": 4,
 "nbformat_minor": 5
}
