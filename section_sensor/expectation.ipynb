{
 "cells": [
  {
   "cell_type": "code",
   "execution_count": 2,
   "id": "71e74553-29a9-4140-82c6-ce17974bae00",
   "metadata": {},
   "outputs": [
    {
     "data": {
      "text/plain": [
       "3.50334"
      ]
     },
     "execution_count": 2,
     "metadata": {},
     "output_type": "execute_result"
    }
   ],
   "source": [
    "import random\n",
    "\n",
    "samples = [random.choice([1, 2, 3, 4, 5, 6]) for i in range(100000)]\n",
    "sum(samples) / len(samples)"
   ]
  }
 ],
 "metadata": {
  "kernelspec": {
   "display_name": "Python 3 (ipykernel)",
   "language": "python",
   "name": "python3"
  },
  "language_info": {
   "codemirror_mode": {
    "name": "ipython",
    "version": 3
   },
   "file_extension": ".py",
   "mimetype": "text/x-python",
   "name": "python",
   "nbconvert_exporter": "python",
   "pygments_lexer": "ipython3",
   "version": "3.9.6"
  }
 },
 "nbformat": 4,
 "nbformat_minor": 5
}
