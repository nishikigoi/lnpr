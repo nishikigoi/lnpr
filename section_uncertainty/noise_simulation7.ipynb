{
 "cells": [
  {
   "cell_type": "code",
   "execution_count": 1,
   "id": "1819212c-fd94-43ed-b393-a3d026ba2607",
   "metadata": {},
   "outputs": [],
   "source": [
    "import sys\n",
    "sys.path.append('../scripts')\n",
    "from ideal_robot import *\n",
    "from scipy.stats import expon, norm, uniform"
   ]
  },
  {
   "cell_type": "code",
   "execution_count": 2,
   "id": "3c69f20c-2fa8-4cea-b8bf-a921111b8245",
   "metadata": {},
   "outputs": [],
   "source": [
    "class Robot(IdealRobot):\n",
    "    def __init__(self, pose, agent=None, sensor=None, color=\"black\",\n",
    "                noise_per_meter=5, noise_std=math.pi/60,\n",
    "                bias_rate_stds=(0.1, 0.1),\n",
    "                expected_stuck_time=1e100, expected_escape_time=1e-100,\n",
    "                expected_kidnap_time=1e100, kidnap_range_x=(-5.0, 5.0), kidnap_range_y=(-5.0, 5.0)):\n",
    "        super().__init__(pose, agent, sensor, color)\n",
    "        self.noise_pdf = expon(scale=1.0/(1e-100 + noise_per_meter))\n",
    "        self.distance_until_noise = self.noise_pdf.rvs()\n",
    "        self.theta_noise = norm(scale=noise_std)\n",
    "        self.bias_rate_nu = norm.rvs(loc=1.0, scale=bias_rate_stds[0])\n",
    "        self.bias_rate_omega = norm.rvs(loc=1.0, scale=bias_rate_stds[1])\n",
    "        self.stuck_pdf = expon(scale=expected_stuck_time)\n",
    "        self.escape_pdf = expon(scale=expected_escape_time)\n",
    "        self.time_until_stuck = self.stuck_pdf.rvs()\n",
    "        self.time_until_escape = self.escape_pdf.rvs()\n",
    "        self.is_stuck = False\n",
    "        self.kidnap_pdf = expon(scale=expected_kidnap_time)\n",
    "        self.time_until_kidnap = self.kidnap_pdf.rvs()\n",
    "        rx, ry = kidnap_range_x, kidnap_range_y\n",
    "        self.kidnap_dist = uniform(loc=(rx[0], ry[0], 0.0), scale=(rx[1] - rx[0], ry[1] - ry[0], 2 * math.pi))\n",
    "        \n",
    "    def noise(self, pose, nu, omega, time_interval):\n",
    "        self.distance_until_noise -= abs(nu) * time_interval + self.r * abs(omega) * time_interval\n",
    "        if self.distance_until_noise <= 0.0:\n",
    "            self.distance_until_noise += self.noise_pdf.rvs()\n",
    "            pose[2] += self.theta_noise.rvs()\n",
    "            \n",
    "        return pose\n",
    "    \n",
    "    def bias(self, nu, omega):\n",
    "        return nu * self.bias_rate_nu, omega * self.bias_rate_omega\n",
    "    \n",
    "    def stuck(self, nu, omega, time_interval):\n",
    "        if self.is_stuck:\n",
    "            self.time_until_escape -= time_interval\n",
    "            if self.time_until_escape <= 0.0:\n",
    "                self.time_until_escape += self.escape_pdf.rvs()\n",
    "                self.is_stuck = False\n",
    "        else:\n",
    "            self.time_until_stuck -= time_interval\n",
    "            if self.time_until_stuck <= 0.0:\n",
    "                self.time_until_stuck += self.stuck_pdf.rvs()\n",
    "                self.is_stuck = True\n",
    "        \n",
    "        return nu * (not self.is_stuck), omega * (not self.is_stuck)\n",
    "    \n",
    "    def kidnap(self, pose, time_interval):\n",
    "        self.time_until_kidnap -= time_interval\n",
    "        if self.time_until_kidnap <= 0.0:\n",
    "            self.time_until_kidnap += self.kidnap_pdf.rvs()\n",
    "            return np.array(self.kidnap_dist.rvs()).T\n",
    "        else:\n",
    "            return pose\n",
    "        \n",
    "    def one_step(self, time_interval):\n",
    "        if not self.agent:\n",
    "            return\n",
    "        obs = self.sensor.data(self.pose) if self.sensor else None\n",
    "        nu, omega = self.agent.decision(abs)\n",
    "        nu, omega = self.bias(nu, omega)\n",
    "        nu, omega = self.stuck(nu, omega, time_interval)\n",
    "        self.pose = self.state_transition(nu, omega, time_interval, self.pose)\n",
    "        self.pose = self.noise(self.pose, nu, omega, time_interval)\n",
    "        self.pose = self.kidnap(self.pose, time_interval)\n",
    "        if self.sensor:\n",
    "            self.sensor.data(self.pose)"
   ]
  },
  {
   "cell_type": "code",
   "execution_count": 15,
   "id": "22e5130b-13d1-4cc3-8b1b-a7046a33a3f9",
   "metadata": {},
   "outputs": [],
   "source": [
    "class Camera(IdealCamera):\n",
    "    def __init__(self, env_map,\n",
    "                 distance_range=(0.5, 6.0),\n",
    "                 direction_range=(-math.pi/3, math.pi/3),\n",
    "                 distance_noise_rate=0.1, direction_noise=math.pi/90):\n",
    "        super().__init__(env_map, distance_range, direction_range)\n",
    "        self.distance_noise_rate = distance_noise_rate\n",
    "        self.direction_noise = direction_noise\n",
    "        \n",
    "    def noise(self, relpos):\n",
    "        ell = norm.rvs(loc=relpos[0], scale=relpos[0] * self.distance_noise_rate)\n",
    "        phi = norm.rvs(loc=relpos[1], scale=self.direction_noise)\n",
    "        return np.array([ell, phi])\n",
    "    \n",
    "    def data(self, cam_pose):\n",
    "        observed = []\n",
    "        for lm in self.map.landmarks:\n",
    "            z = self.observation_function(cam_pose, lm.pos)\n",
    "            if self.visible(z):\n",
    "                z = self.noise(z)\n",
    "                observed.append((z, lm.id))\n",
    "                \n",
    "        self.lastdata = observed\n",
    "        return observed"
   ]
  },
  {
   "cell_type": "code",
   "execution_count": 16,
   "id": "d99ab94b-5a95-4540-b131-72b9700f99e9",
   "metadata": {},
   "outputs": [
    {
     "data": {
      "application/vnd.jupyter.widget-view+json": {
       "model_id": "63776321cb704b7794071685c50e1158",
       "version_major": 2,
       "version_minor": 0
      },
      "text/plain": [
       "Canvas(toolbar=Toolbar(toolitems=[('Home', 'Reset original view', 'home', 'home'), ('Back', 'Back to previous …"
      ]
     },
     "metadata": {},
     "output_type": "display_data"
    }
   ],
   "source": [
    "world = World(30, 0.1)\n",
    "\n",
    "m = Map()\n",
    "m.append_landmark(Landmark(-4, 2))\n",
    "m.append_landmark(Landmark(2, -3))\n",
    "m.append_landmark(Landmark(3, 3))\n",
    "world.append(m)\n",
    "\n",
    "circling = Agent(0.2, 10.0/180*math.pi)\n",
    "r = Robot(np.array([0, 0, 0]).T, sensor=Camera(m), agent=circling)\n",
    "world.append(r)\n",
    "\n",
    "world.draw()"
   ]
  }
 ],
 "metadata": {
  "kernelspec": {
   "display_name": "Python 3 (ipykernel)",
   "language": "python",
   "name": "python3"
  },
  "language_info": {
   "codemirror_mode": {
    "name": "ipython",
    "version": 3
   },
   "file_extension": ".py",
   "mimetype": "text/x-python",
   "name": "python",
   "nbconvert_exporter": "python",
   "pygments_lexer": "ipython3",
   "version": "3.9.6"
  }
 },
 "nbformat": 4,
 "nbformat_minor": 5
}
