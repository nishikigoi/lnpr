{
 "cells": [
  {
   "cell_type": "code",
   "execution_count": 2,
   "id": "1819212c-fd94-43ed-b393-a3d026ba2607",
   "metadata": {},
   "outputs": [],
   "source": [
    "import sys\n",
    "sys.path.append('../scripts')\n",
    "from ideal_robot import *\n",
    "from scipy.stats import expon, norm"
   ]
  },
  {
   "cell_type": "code",
   "execution_count": 3,
   "id": "3c69f20c-2fa8-4cea-b8bf-a921111b8245",
   "metadata": {},
   "outputs": [],
   "source": [
    "class Robot(IdealRobot):\n",
    "    def __init__(self, pose, agent=None, sensor=None, color=\"black\",\n",
    "                 noise_per_meter=5, noise_std=math.pi/60,\n",
    "                 bias_rate_stds=(0.1, 0.1)):\n",
    "        super().__init__(pose, agent, sensor, color)\n",
    "        self.noise_pdf = expon(scale=1.0/(1e-100 + noise_per_meter))\n",
    "        self.distance_until_noise = self.noise_pdf.rvs()\n",
    "        self.theta_noise = norm(scale=noise_std)\n",
    "        self.bias_rate_nu = norm.rvs(loc=1.0, scale=bias_rate_stds[0])\n",
    "        self.bias_rate_omega = norm.rvs(loc=1.0, scale=bias_rate_stds[1])\n",
    "        \n",
    "    def noise(self, pose, nu, omega, time_interval):\n",
    "        self.distance_until_noise -= abs(nu) * time_interval + self.r * abs(omega) * time_interval\n",
    "        if self.distance_until_noise <= 0.0:\n",
    "            self.distance_until_noise += self.noise_pdf.rvs()\n",
    "            pose[2] += self.theta_noise.rvs()\n",
    "            \n",
    "        return pose\n",
    "    \n",
    "    def bias(self, nu, omega):\n",
    "        return nu * self.bias_rate_nu, omega * self.bias_rate_omega\n",
    "    \n",
    "    def one_step(self, time_interval):\n",
    "        if not self.agent:\n",
    "            return\n",
    "        obs = self.sensor.data(self.pose) if self.sensor else None\n",
    "        nu, omega = self.agent.decision(abs)\n",
    "        nu, omega = self.bias(nu, omega)\n",
    "        self.pose = self.state_transition(nu, omega, time_interval, self.pose)\n",
    "        self.pose = self.noise(self.pose, nu, omega, time_interval)"
   ]
  },
  {
   "cell_type": "code",
   "execution_count": 4,
   "id": "d99ab94b-5a95-4540-b131-72b9700f99e9",
   "metadata": {},
   "outputs": [
    {
     "data": {
      "application/vnd.jupyter.widget-view+json": {
       "model_id": "2a105263347e49f6ada950d5137d9fa2",
       "version_major": 2,
       "version_minor": 0
      },
      "text/plain": [
       "Canvas(toolbar=Toolbar(toolitems=[('Home', 'Reset original view', 'home', 'home'), ('Back', 'Back to previous …"
      ]
     },
     "metadata": {},
     "output_type": "display_data"
    }
   ],
   "source": [
    "import copy\n",
    "\n",
    "world = World(30, 0.1)\n",
    "\n",
    "circling = Agent(0.2, 10.0/180*math.pi)\n",
    "nobias_robot = IdealRobot(np.array([0, 0, 0]).T, sensor=None, agent=circling, color=\"gray\")\n",
    "world.append(nobias_robot)\n",
    "biased_robot = Robot(np.array([0, 0, 0]).T, sensor=None, agent=circling,\n",
    "                     color=\"red\", noise_per_meter=0, bias_rate_stds=(0.2, 0.2))\n",
    "world.append(biased_robot)\n",
    "    \n",
    "world.draw()"
   ]
  }
 ],
 "metadata": {
  "kernelspec": {
   "display_name": "Python 3 (ipykernel)",
   "language": "python",
   "name": "python3"
  },
  "language_info": {
   "codemirror_mode": {
    "name": "ipython",
    "version": 3
   },
   "file_extension": ".py",
   "mimetype": "text/x-python",
   "name": "python",
   "nbconvert_exporter": "python",
   "pygments_lexer": "ipython3",
   "version": "3.9.6"
  }
 },
 "nbformat": 4,
 "nbformat_minor": 5
}
